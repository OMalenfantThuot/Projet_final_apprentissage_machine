{
 "cells": [
  {
   "cell_type": "markdown",
   "metadata": {},
   "source": [
    "## Importation des données"
   ]
  },
  {
   "cell_type": "code",
   "execution_count": 1,
   "metadata": {},
   "outputs": [
    {
     "name": "stderr",
     "output_type": "stream",
     "text": [
      "D:\\Programmes\\Anaconda3\\lib\\site-packages\\ipykernel\\parentpoller.py:116: UserWarning: Parent poll failed.  If the frontend dies,\n",
      "                the kernel may be left running.  Please let us know\n",
      "                about your system (bitness, Python, etc.) at\n",
      "                ipython-dev@scipy.org\n",
      "  ipython-dev@scipy.org\"\"\")\n"
     ]
    }
   ],
   "source": [
    "import pandas\n",
    "import numpy as np"
   ]
  },
  {
   "cell_type": "code",
   "execution_count": 2,
   "metadata": {},
   "outputs": [],
   "source": [
    "raw = pandas.read_excel('filtered_data.xlsx')"
   ]
  },
  {
   "cell_type": "code",
   "execution_count": 3,
   "metadata": {},
   "outputs": [
    {
     "data": {
      "text/plain": [
       "Index(['Last Name', 'First Name', 'Position', 'GP', 'G', 'A', 'A1', 'PTS',\n",
       "       '+/-', 'IPP%', 'TOI/GP', 'iCF', 'iFF', 'iSF', 'iSCF', 'iHDCF', 'iRush',\n",
       "       'iReb', 'Pass', 'ZS%', 'iGVA', 'iTKA', 'iBLK', 'S.Bkhd', 'S.Dflct',\n",
       "       'S.Slap', 'S.Snap', 'S.Tip', 'S.Wrap', 'S.Wrst', 'CF', 'CA', 'FF', 'FA',\n",
       "       'SF', 'SA', 'Ht', 'Wt', 'Age', 'PIM'],\n",
       "      dtype='object')"
      ]
     },
     "execution_count": 3,
     "metadata": {},
     "output_type": "execute_result"
    }
   ],
   "source": [
    "raw.columns"
   ]
  },
  {
   "cell_type": "code",
   "execution_count": 4,
   "metadata": {},
   "outputs": [],
   "source": [
    "player_names = raw['First Name'].values + ' ' + raw['Last Name'].values\n",
    "raw = raw.drop(columns=['First Name', 'Last Name'])"
   ]
  },
  {
   "cell_type": "code",
   "execution_count": 5,
   "metadata": {},
   "outputs": [],
   "source": [
    "targets_goals = raw['G'].values.reshape(-1,1).astype(dtype = 'float32')\n",
    "targets_assists = raw['A'].values.reshape(-1,1).astype(dtype = 'float32')\n",
    "targets_primary_assists = raw['A1'].values.reshape(-1,1).astype(dtype = 'float32')\n",
    "targets_points = raw['PTS'].values.reshape(-1,1).astype(dtype = 'float32')\n",
    "targets_plusminus = raw['+/-'].values.reshape(-1,1).astype(dtype = 'float32')\n",
    "raw = raw.drop(columns = ['G', 'A', 'A1','PTS', '+/-'])"
   ]
  },
  {
   "cell_type": "code",
   "execution_count": 6,
   "metadata": {},
   "outputs": [
    {
     "name": "stderr",
     "output_type": "stream",
     "text": [
      "D:\\Programmes\\Anaconda3\\lib\\site-packages\\ipykernel_launcher.py:3: SettingWithCopyWarning: \n",
      "A value is trying to be set on a copy of a slice from a DataFrame\n",
      "\n",
      "See the caveats in the documentation: http://pandas.pydata.org/pandas-docs/stable/indexing.html#indexing-view-versus-copy\n",
      "  This is separate from the ipykernel package so we can avoid doing imports until\n"
     ]
    }
   ],
   "source": [
    "for i,position in enumerate(raw['Position']):\n",
    "    if position in ['C/RW', 'LW/C', 'LW/RW', 'RW/C', 'LW', 'RW']:\n",
    "        raw['Position'][i] = 'W'\n",
    "one_hot_position = pandas.get_dummies(raw['Position'])\n",
    "raw = raw.drop(columns = ['Position'])"
   ]
  },
  {
   "cell_type": "code",
   "execution_count": 7,
   "metadata": {},
   "outputs": [],
   "source": [
    "def shuffle_data(*sets):\n",
    "    rng_state = np.random.get_state()\n",
    "    for set in sets:\n",
    "        np.random.set_state(rng_state)\n",
    "        np.random.shuffle(set)"
   ]
  },
  {
   "cell_type": "code",
   "execution_count": 8,
   "metadata": {},
   "outputs": [],
   "source": [
    "data = np.concatenate((one_hot_position, raw.values), axis=1).astype(dtype = 'float32')"
   ]
  },
  {
   "cell_type": "code",
   "execution_count": 9,
   "metadata": {},
   "outputs": [],
   "source": [
    "shuffle_data(player_names, targets_goals, targets_assists, targets_primary_assists, targets_plusminus, targets_points, data)"
   ]
  },
  {
   "cell_type": "code",
   "execution_count": 10,
   "metadata": {},
   "outputs": [],
   "source": [
    "train_size = int(data.shape[0] * 0.70)\n",
    "valid_size = int(data.shape[0] * 0.13)"
   ]
  },
  {
   "cell_type": "markdown",
   "metadata": {},
   "source": [
    "## MLP"
   ]
  },
  {
   "cell_type": "code",
   "execution_count": 11,
   "metadata": {},
   "outputs": [],
   "source": [
    "import torch\n",
    "import matplotlib.pyplot as plt\n",
    "import torch.nn as nn\n",
    "import torch.nn.functional as F\n",
    "import torch.utils.data\n",
    "import torch.optim\n",
    "import time"
   ]
  },
  {
   "cell_type": "code",
   "execution_count": 21,
   "metadata": {},
   "outputs": [],
   "source": [
    "class Network(nn.Module):\n",
    "    def __init__(self):\n",
    "        super(Network,self).__init__()\n",
    "        self.fc1 = nn.Linear(35, 200)\n",
    "        self.fc2 = nn.Linear(200,1)\n",
    "#        self.fc3 = nn.Linear(100, 1)\n",
    "#        self.fc4 = nn.Linear(50, 20)\n",
    "#        self.fc5 = nn.Linear(20, 1)\n",
    "    \n",
    "    def forward(self, x):\n",
    "        x = self.fc1(x)\n",
    "        x = self.fc2(x)\n",
    "#        x = self.fc3(x)\n",
    "#         x = self.fc4(x)\n",
    "#         x = self.fc5(x)\n",
    "        return x"
   ]
  },
  {
   "cell_type": "code",
   "execution_count": 13,
   "metadata": {},
   "outputs": [],
   "source": [
    "class hockey_dataset(torch.utils.data.dataset.Dataset):\n",
    "    def __init__(self, data, labels, transforms=None):\n",
    "        self.data = data\n",
    "        self.labels = labels\n",
    "        self.transforms = transforms\n",
    "        \n",
    "    def __getitem__(self, index):\n",
    "        d = self.data[index]\n",
    "        if self.transforms is not None:\n",
    "            d = self.transforms(d)\n",
    "        return (d, self.labels[index])\n",
    "    \n",
    "    def __len__(self):\n",
    "        return self.labels.shape[0]"
   ]
  },
  {
   "cell_type": "code",
   "execution_count": 22,
   "metadata": {},
   "outputs": [],
   "source": [
    "def train(data, labels, nepochs):\n",
    "    \n",
    "    trainset = hockey_dataset(\n",
    "        data[:train_size], labels[:train_size])\n",
    "    validset = hockey_dataset(\n",
    "        data[train_size:train_size+valid_size], labels[train_size:train_size+valid_size])\n",
    "\n",
    "    trainloader = torch.utils.data.DataLoader(trainset, batch_size=100, shuffle = True)\n",
    "    validloader = torch.utils.data.DataLoader(validset, batch_size=100, shuffle = False)\n",
    "    \n",
    "    network = Network().to(device)\n",
    "    criterion = nn.MSELoss()\n",
    "    lr = 0.0000001\n",
    "    optimizer = torch.optim.SGD(network.parameters(), lr = lr,\n",
    "                            weight_decay=0.1, momentum = 0)\n",
    "    \n",
    "    loss_train, loss_valid = [],[]\n",
    "    \n",
    "    for epoch in range(nepochs):\n",
    "        if (epoch > 0) and (epoch%100 == 0):\n",
    "            lr = lr*0.75\n",
    "            optimizer = torch.optim.SGD(network.parameters(), lr = lr,\n",
    "                            weight_decay=0.01, momentum = 0)\n",
    "        current_loss_train, current_loss_valid = 0,0\n",
    "        network.train()\n",
    "        for data in trainloader:\n",
    "            inputs, label = data\n",
    "            optimizer.zero_grad()\n",
    "            output = network(inputs.to(device))\n",
    "            loss = criterion(output, label.to(device))\n",
    "            loss.backward()\n",
    "            optimizer.step()\n",
    "            current_loss_train += loss.item()/train_size\n",
    "        loss_train.append(current_loss_train)\n",
    "        \n",
    "        with torch.no_grad():\n",
    "            network.eval()\n",
    "            for data in validloader:\n",
    "                inputs, label = data\n",
    "                output = network(inputs.to(device))\n",
    "                loss = criterion(output, label.to(device))\n",
    "                current_loss_valid += loss.item()/valid_size\n",
    "        loss_valid.append(current_loss_valid)\n",
    "        if epoch%100 == 0:\n",
    "            print('Epoch: {}'.format(epoch))\n",
    "            print('Train loss: {0:.4f}'.format(loss_train[-1]))\n",
    "            print('Valid loss: {0:.4f}'.format(loss_valid[-1]))\n",
    "    print('Finished Training')\n",
    "    \n",
    "    print('Mean loss of last 50 iterations(test): ',np.array(loss_train[-50:]).mean())\n",
    "    print('Mean loss of last 50 iterations(valid): ',np.array(loss_valid[-50:]).mean())\n",
    "\n",
    "#     with torch.no_grad():\n",
    "#         for data in validloader:\n",
    "#             inputs\n",
    "    \n",
    "    return loss_train, loss_valid"
   ]
  },
  {
   "cell_type": "code",
   "execution_count": 19,
   "metadata": {},
   "outputs": [
    {
     "data": {
      "text/plain": [
       "'GeForce GTX 1050'"
      ]
     },
     "execution_count": 19,
     "metadata": {},
     "output_type": "execute_result"
    }
   ],
   "source": [
    "device = torch.device(\"cuda:0\" if torch.cuda.is_available() else \"cpu\")\n",
    "torch.cuda.get_device_name(0)"
   ]
  },
  {
   "cell_type": "code",
   "execution_count": 23,
   "metadata": {},
   "outputs": [
    {
     "name": "stdout",
     "output_type": "stream",
     "text": [
      "Epoch: 0\n",
      "Train loss: 1.5348\n",
      "Valid loss: 3.1975\n",
      "Epoch: 100\n",
      "Train loss: 0.4758\n",
      "Valid loss: 0.7202\n",
      "Epoch: 200\n",
      "Train loss: 0.3382\n",
      "Valid loss: 0.5217\n",
      "Epoch: 300\n",
      "Train loss: 0.3052\n",
      "Valid loss: 0.5550\n",
      "Epoch: 400\n",
      "Train loss: 0.2508\n",
      "Valid loss: 0.3864\n",
      "Epoch: 500\n",
      "Train loss: 0.2491\n",
      "Valid loss: 0.3557\n",
      "Epoch: 600\n",
      "Train loss: 0.2576\n",
      "Valid loss: 0.3762\n",
      "Epoch: 700\n",
      "Train loss: 0.2326\n",
      "Valid loss: 0.3235\n",
      "Epoch: 800\n",
      "Train loss: 0.2377\n",
      "Valid loss: 0.3455\n",
      "Finished Training\n",
      "Mean loss of last 50 iterations(test):  0.22714324413869008\n",
      "Mean loss of last 50 iterations(valid):  0.32782191749241035\n",
      "Temps d'entrainement : 24.44330596923828\n"
     ]
    },
    {
     "data": {
      "image/png": "[encoded data removed]",
      "text/plain": [
       "<Figure size 1440x720 with 2 Axes>"
      ]
     },
     "metadata": {
      "needs_background": "light"
     },
     "output_type": "display_data"
    }
   ],
   "source": [
    "nepochs = 801\n",
    "t1 = time.time()\n",
    "loss_train, loss_valid = train(data, targets_goals, nepochs)\n",
    "print(\"Temps d'entrainement : {}\".format(time.time()-t1))\n",
    "torch.cuda.empty_cache()\n",
    "\n",
    "fig,ax = plt.subplots(nrows=1, ncols=2, figsize = (20,10))\n",
    "ax1, ax2 = ax.flatten()\n",
    "ax1.plot(range(1,nepochs), loss_train[1:], 'k,-', label='Train')\n",
    "ax1.plot(range(1,nepochs), loss_valid[1:], 'r,-', label='Valid')\n",
    "ax1.set_xlabel('Epoch')\n",
    "ax1.set_ylabel('Average Loss')\n",
    "ax1.legend()\n",
    "\n",
    "ax2.plot(range(5,nepochs), loss_train[5:], 'k,-', label='Train')\n",
    "ax2.plot(range(5,nepochs), loss_valid[5:], 'r,-', label='Valid')\n",
    "ax2.set_xlabel('Epoch')\n",
    "ax2.set_ylabel('Average Loss')\n",
    "ax2.legend()\n",
    "plt.show()"
   ]
  },
  {
   "cell_type": "code",
   "execution_count": 17,
   "metadata": {},
   "outputs": [],
   "source": [
    "# network = Network().to(device)\n",
    "\n",
    "# checkpoint = torch.load('state_dict')\n",
    "# network.load_state_dict(checkpoint)"
   ]
  },
  {
   "cell_type": "code",
   "execution_count": 18,
   "metadata": {},
   "outputs": [],
   "source": [
    "# validset = hockey_dataset(\n",
    "#         data[train_size:train_size+valid_size], targets_goals[train_size:train_size+valid_size])\n",
    "# validloader = torch.utils.data.DataLoader(validset, batch_size=100, shuffle = False)\n",
    "\n",
    "# network.eval()\n",
    "# loss_list = []\n",
    "# # with torch.no_grad():\n",
    "# #     for data in validloader:\n",
    "# #         inputs, label = data\n",
    "# #         output = network(inputs.to(device))\n",
    "# #         loss = criterion(output, label.to(device))\n",
    "# #         loss_list.append(loss)\n",
    "# with torch.no_grad():\n",
    "#     for data in validloader:\n",
    "#         inputs, label = data\n",
    "#         output = network(inputs.to(device))\n",
    "#         loss = criterion(output, label.to(device))\n",
    "#         current_loss_valid += loss.item()/valid_size\n",
    "# print(loss)"
   ]
  },
  {
   "cell_type": "code",
   "execution_count": null,
   "metadata": {},
   "outputs": [],
   "source": []
  }
 ],
 "metadata": {
  "kernelspec": {
   "display_name": "Python 3",
   "language": "python",
   "name": "python3"
  },
  "language_info": {
   "codemirror_mode": {
    "name": "ipython",
    "version": 3
   },
   "file_extension": ".py",
   "mimetype": "text/x-python",
   "name": "python",
   "nbconvert_exporter": "python",
   "pygments_lexer": "ipython3",
   "version": "3.7.0"
  }
 },
 "nbformat": 4,
 "nbformat_minor": 2
}
