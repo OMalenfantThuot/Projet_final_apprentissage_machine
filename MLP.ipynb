{
 "cells": [
  {
   "cell_type": "markdown",
   "metadata": {},
   "source": [
    "## Importation des données"
   ]
  },
  {
   "cell_type": "code",
   "execution_count": 1,
   "metadata": {},
   "outputs": [],
   "source": [
    "import pandas\n",
    "import numpy as np"
   ]
  },
  {
   "cell_type": "code",
   "execution_count": 2,
   "metadata": {},
   "outputs": [],
   "source": [
    "raw = pandas.read_excel('filtered_data.xlsx')"
   ]
  },
  {
   "cell_type": "code",
   "execution_count": 3,
   "metadata": {},
   "outputs": [
    {
     "data": {
      "text/plain": [
       "Index(['Last Name', 'First Name', 'Position', 'GP', 'G', 'A', 'A1', 'PTS',\n",
       "       '+/-', 'IPP%', 'TOI/GP', 'iCF', 'iFF', 'iSF', 'iSCF', 'iHDCF', 'iRush',\n",
       "       'iReb', 'Pass', 'ZS%', 'iGVA', 'iTKA', 'iBLK', 'S.Bkhd', 'S.Dflct',\n",
       "       'S.Slap', 'S.Snap', 'S.Tip', 'S.Wrap', 'S.Wrst', 'CF', 'CA', 'FF', 'FA',\n",
       "       'SF', 'SA', 'Ht', 'Wt', 'Age', 'PIM'],\n",
       "      dtype='object')"
      ]
     },
     "execution_count": 3,
     "metadata": {},
     "output_type": "execute_result"
    }
   ],
   "source": [
    "raw.columns"
   ]
  },
  {
   "cell_type": "code",
   "execution_count": 4,
   "metadata": {},
   "outputs": [],
   "source": [
    "player_names = raw['First Name'].values + ' ' + raw['Last Name'].values\n",
    "raw = raw.drop(columns=['First Name', 'Last Name'])"
   ]
  },
  {
   "cell_type": "code",
   "execution_count": 5,
   "metadata": {},
   "outputs": [],
   "source": [
    "targets_goals = raw['G'].values.reshape(-1,1).astype(dtype = 'float32')\n",
    "targets_assists = raw['A'].values.reshape(-1,1).astype(dtype = 'float32')\n",
    "targets_primary_assists = raw['A1'].values.reshape(-1,1).astype(dtype = 'float32')\n",
    "targets_points = raw['PTS'].values.reshape(-1,1).astype(dtype = 'float32')\n",
    "targets_plusminus = raw['+/-'].values.reshape(-1,1).astype(dtype = 'float32')\n",
    "raw = raw.drop(columns = ['G', 'A', 'A1','PTS', '+/-'])"
   ]
  },
  {
   "cell_type": "code",
   "execution_count": 6,
   "metadata": {},
   "outputs": [
    {
     "name": "stderr",
     "output_type": "stream",
     "text": [
      "D:\\Programmes\\Anaconda3\\lib\\site-packages\\ipykernel_launcher.py:3: SettingWithCopyWarning: \n",
      "A value is trying to be set on a copy of a slice from a DataFrame\n",
      "\n",
      "See the caveats in the documentation: http://pandas.pydata.org/pandas-docs/stable/indexing.html#indexing-view-versus-copy\n",
      "  This is separate from the ipykernel package so we can avoid doing imports until\n"
     ]
    }
   ],
   "source": [
    "for i,position in enumerate(raw['Position']):\n",
    "    if position in ['C/RW', 'LW/C', 'LW/RW', 'RW/C', 'LW', 'RW']:\n",
    "        raw['Position'][i] = 'W'\n",
    "one_hot_position = pandas.get_dummies(raw['Position'])\n",
    "raw = raw.drop(columns = ['Position'])"
   ]
  },
  {
   "cell_type": "code",
   "execution_count": 7,
   "metadata": {},
   "outputs": [],
   "source": [
    "def shuffle_data(*sets):\n",
    "    rng_state = np.random.get_state()\n",
    "    for set in sets:\n",
    "        np.random.set_state(rng_state)\n",
    "        np.random.shuffle(set)"
   ]
  },
  {
   "cell_type": "code",
   "execution_count": 8,
   "metadata": {},
   "outputs": [],
   "source": [
    "data = np.concatenate((one_hot_position, raw.values), axis=1).astype(dtype = 'float32')\n",
    "shuffle_data(player_names, targets_goals, targets_assists, targets_primary_assists, targets_plusminus, targets_points, data)"
   ]
  },
  {
   "cell_type": "code",
   "execution_count": 9,
   "metadata": {},
   "outputs": [],
   "source": [
    "train_size = int(data.shape[0] * 0.70)\n",
    "valid_size = int(data.shape[0] * 0.13)"
   ]
  },
  {
   "cell_type": "code",
   "execution_count": 10,
   "metadata": {},
   "outputs": [
    {
     "data": {
      "text/plain": [
       "array([29.], dtype=float32)"
      ]
     },
     "execution_count": 10,
     "metadata": {},
     "output_type": "execute_result"
    }
   ],
   "source": [
    "targets_points[1]"
   ]
  },
  {
   "cell_type": "markdown",
   "metadata": {},
   "source": [
    "## MLP"
   ]
  },
  {
   "cell_type": "code",
   "execution_count": 11,
   "metadata": {},
   "outputs": [],
   "source": [
    "import torch\n",
    "import matplotlib.pyplot as plt\n",
    "import torch.nn as nn\n",
    "import torch.nn.functional as F\n",
    "import torch.utils.data\n",
    "import torch.optim\n",
    "import time"
   ]
  },
  {
   "cell_type": "code",
   "execution_count": 17,
   "metadata": {},
   "outputs": [],
   "source": [
    "class Network(nn.Module):\n",
    "    def __init__(self):\n",
    "        super(Network,self).__init__()\n",
    "        self.fc1 = nn.Linear(35, 60)\n",
    "        self.fc2 = nn.Linear(60,1)\n",
    "#        self.fc3 = nn.Linear(100, 1)\n",
    "        #self.fc1 = nn.Linear(35, 1)\n",
    "    \n",
    "    def forward(self, x):\n",
    "#         x = F.relu(self.fc1(x))\n",
    "#         x = F.relu(self.fc2(x))\n",
    "#         x = self.fc3(x)\n",
    "        x = self.fc1(x)\n",
    "        x = self.fc2(x)\n",
    "        return x"
   ]
  },
  {
   "cell_type": "code",
   "execution_count": 18,
   "metadata": {},
   "outputs": [],
   "source": [
    "class hockey_dataset(torch.utils.data.dataset.Dataset):\n",
    "    def __init__(self, data, labels, transforms=None):\n",
    "        self.data = data\n",
    "        self.labels = labels\n",
    "        self.transforms = transforms\n",
    "        \n",
    "    def __getitem__(self, index):\n",
    "        d = self.data[index]\n",
    "        if self.transforms is not None:\n",
    "            d = self.transforms(d)\n",
    "        return (d, self.labels[index])\n",
    "    \n",
    "    def __len__(self):\n",
    "        return self.labels.shape[0]"
   ]
  },
  {
   "cell_type": "code",
   "execution_count": 63,
   "metadata": {},
   "outputs": [],
   "source": [
    "def train(data, labels, nepochs):\n",
    "    \n",
    "#     trainset = hockey_dataset(\n",
    "#         data[:train_size], labels[:train_size])\n",
    "#     validset = hockey_dataset(\n",
    "#         data[train_size:train_size+valid_size], labels[train_size:train_size+valid_size])\n",
    "    \n",
    "    trainset = hockey_dataset(\n",
    "        data, labels)\n",
    "    validset = hockey_dataset(\n",
    "        data, labels)\n",
    "\n",
    "    trainloader = torch.utils.data.DataLoader(trainset, batch_size=100, shuffle = True)\n",
    "    validloader = torch.utils.data.DataLoader(validset, batch_size=100, shuffle = False)\n",
    "    \n",
    "    network = Network().to(device)\n",
    "    criterion = nn.L1Loss()\n",
    "    optimizer = torch.optim.SGD(network.parameters(), lr = 0.000002,\n",
    "                            weight_decay=0.001, momentum = 0.5)\n",
    "    \n",
    "    loss_train, loss_valid = [],[]\n",
    "    \n",
    "    for epoch in range(nepochs):\n",
    "        current_loss_train, current_loss_valid = 0,0\n",
    "#         for param in network.parameters():\n",
    "#             print('param: ',param)\n",
    "#             print(param.shape)\n",
    "#             #test_list.append(param)\n",
    "        for data in trainloader:\n",
    "            inputs, label = data\n",
    "#             test_list = []\n",
    "#             for param in network.parameters():\n",
    "#                 test_list.append(param)\n",
    "#            print('inputs: ',inputs.shape)\n",
    "#             print('labels :',labels)\n",
    "            #test_output = torch.mm(test_list[0],torch.transpose(inputs.to(device), 0, 1)) + test_list[1]\n",
    "            optimizer.zero_grad()\n",
    "            output = network(inputs.to(device))\n",
    "            #print(output)\n",
    "            #print('output :',output)\n",
    "            loss = criterion(output, label.to(device))\n",
    "            loss.backward()\n",
    "            #print(loss.item())\n",
    "            optimizer.step()\n",
    "            current_loss_train += loss.item()\n",
    "        loss_train.append(current_loss_train)\n",
    "        \n",
    "#         with torch.no_grad():\n",
    "#             for data in validloader:\n",
    "#                 inputs, label = data\n",
    "#                 output = network(inputs.to(device))\n",
    "#                 loss = criterion(output, label.to(device))\n",
    "#                 current_loss_valid += loss.item()\n",
    "        loss_valid.append(current_loss_valid)\n",
    "        print('Epoch: {}'.format(epoch))\n",
    "        print('Train loss: {0:.4f}'.format(loss_train[-1]))\n",
    "        print('Valid loss: {0:.4f}'.format(loss_valid[-1]))\n",
    "    print('Finished Training')\n",
    "    \n",
    "    return loss_train, loss_valid"
   ]
  },
  {
   "cell_type": "code",
   "execution_count": 38,
   "metadata": {},
   "outputs": [
    {
     "data": {
      "text/plain": [
       "'GeForce GTX 1050'"
      ]
     },
     "execution_count": 38,
     "metadata": {},
     "output_type": "execute_result"
    }
   ],
   "source": [
    "device = torch.device(\"cuda:0\" if torch.cuda.is_available() else \"cpu\")\n",
    "torch.cuda.get_device_name(0)"
   ]
  },
  {
   "cell_type": "code",
   "execution_count": 64,
   "metadata": {},
   "outputs": [
    {
     "name": "stdout",
     "output_type": "stream",
     "text": [
      "Epoch: 0\n",
      "Train loss: 202.1633\n",
      "Valid loss: 0.0000\n",
      "Epoch: 1\n",
      "Train loss: 137.0712\n",
      "Valid loss: 0.0000\n",
      "Epoch: 2\n",
      "Train loss: 133.5598\n",
      "Valid loss: 0.0000\n",
      "Epoch: 3\n",
      "Train loss: 130.6702\n",
      "Valid loss: 0.0000\n",
      "Epoch: 4\n",
      "Train loss: 127.1399\n",
      "Valid loss: 0.0000\n",
      "Epoch: 5\n",
      "Train loss: 124.7878\n",
      "Valid loss: 0.0000\n",
      "Epoch: 6\n",
      "Train loss: 121.5690\n",
      "Valid loss: 0.0000\n",
      "Epoch: 7\n",
      "Train loss: 118.8903\n",
      "Valid loss: 0.0000\n",
      "Epoch: 8\n",
      "Train loss: 116.0657\n",
      "Valid loss: 0.0000\n",
      "Epoch: 9\n",
      "Train loss: 113.2276\n",
      "Valid loss: 0.0000\n",
      "Epoch: 10\n",
      "Train loss: 110.7057\n",
      "Valid loss: 0.0000\n",
      "Epoch: 11\n",
      "Train loss: 107.6484\n",
      "Valid loss: 0.0000\n",
      "Epoch: 12\n",
      "Train loss: 106.5258\n",
      "Valid loss: 0.0000\n",
      "Epoch: 13\n",
      "Train loss: 102.9911\n",
      "Valid loss: 0.0000\n",
      "Epoch: 14\n",
      "Train loss: 100.5262\n",
      "Valid loss: 0.0000\n",
      "Epoch: 15\n",
      "Train loss: 97.9546\n",
      "Valid loss: 0.0000\n",
      "Epoch: 16\n",
      "Train loss: 95.6783\n",
      "Valid loss: 0.0000\n",
      "Epoch: 17\n",
      "Train loss: 93.0605\n",
      "Valid loss: 0.0000\n",
      "Epoch: 18\n",
      "Train loss: 90.9676\n",
      "Valid loss: 0.0000\n",
      "Epoch: 19\n",
      "Train loss: 88.2428\n",
      "Valid loss: 0.0000\n",
      "Finished Training\n",
      "Temps d'entrainement : 2.874210834503174\n"
     ]
    },
    {
     "data": {
      "image/png": "[encoded data removed]",
      "text/plain": [
       "<Figure size 432x288 with 1 Axes>"
      ]
     },
     "metadata": {
      "needs_background": "light"
     },
     "output_type": "display_data"
    }
   ],
   "source": [
    "nepochs = 20\n",
    "t1 = time.time()\n",
    "loss_train, loss_valid = train(data, targets_goals, nepochs)\n",
    "print(\"Temps d'entrainement : {}\".format(time.time()-t1))\n",
    "torch.cuda.empty_cache()\n",
    "\n",
    "fig,ax = plt.subplots()\n",
    "ax.plot(range(nepochs), loss_train, 'sk-', label='Train')\n",
    "#ax.plot(range(nepochs), loss_valid, 'sr-', label='Valid')\n",
    "ax.set_xlabel('Epoch')\n",
    "ax.set_ylabel('Average Cost')\n",
    "ax.legend()\n",
    "plt.show()"
   ]
  },
  {
   "cell_type": "code",
   "execution_count": 55,
   "metadata": {},
   "outputs": [
    {
     "data": {
      "text/plain": [
       "5112.25"
      ]
     },
     "execution_count": 55,
     "metadata": {},
     "output_type": "execute_result"
    }
   ],
   "source": [
    "(87.5-)**2"
   ]
  }
 ],
 "metadata": {
  "kernelspec": {
   "display_name": "Python 3",
   "language": "python",
   "name": "python3"
  },
  "language_info": {
   "codemirror_mode": {
    "name": "ipython",
    "version": 3
   },
   "file_extension": ".py",
   "mimetype": "text/x-python",
   "name": "python",
   "nbconvert_exporter": "python",
   "pygments_lexer": "ipython3",
   "version": "3.7.0"
  }
 },
 "nbformat": 4,
 "nbformat_minor": 2
}
