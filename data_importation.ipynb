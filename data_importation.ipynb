{
 "cells": [
  {
   "cell_type": "markdown",
   "metadata": {},
   "source": [
    "## Importation des données"
   ]
  },
  {
   "cell_type": "code",
   "execution_count": 1,
   "metadata": {},
   "outputs": [],
   "source": [
    "import pandas\n",
    "import numpy as np"
   ]
  },
  {
   "cell_type": "code",
   "execution_count": 2,
   "metadata": {},
   "outputs": [],
   "source": [
    "raw = pandas.read_excel('filtered_data.xlsx')"
   ]
  },
  {
   "cell_type": "code",
   "execution_count": 3,
   "metadata": {},
   "outputs": [
    {
     "data": {
      "text/plain": [
       "Index(['Last Name', 'First Name', 'Position', 'GP', 'G', 'A', 'A1', 'PTS',\n",
       "       '+/-', 'IPP%', 'TOI/GP', 'iCF', 'iFF', 'iSF', 'iSCF', 'iHDCF', 'iRush',\n",
       "       'iReb', 'Pass', 'ZS%', 'iGVA', 'iTKA', 'iBLK', 'S.Bkhd', 'S.Dflct',\n",
       "       'S.Slap', 'S.Snap', 'S.Tip', 'S.Wrap', 'S.Wrst', 'CF', 'CA', 'FF', 'FA',\n",
       "       'SF', 'SA', 'Ht', 'Wt', 'Age', 'PIM'],\n",
       "      dtype='object')"
      ]
     },
     "execution_count": 3,
     "metadata": {},
     "output_type": "execute_result"
    }
   ],
   "source": [
    "raw.columns"
   ]
  },
  {
   "cell_type": "code",
   "execution_count": 4,
   "metadata": {},
   "outputs": [],
   "source": [
    "player_names = raw['First Name'].values + ' ' + raw['Last Name'].values\n",
    "raw = raw.drop(columns=['First Name', 'Last Name'])"
   ]
  },
  {
   "cell_type": "code",
   "execution_count": 5,
   "metadata": {},
   "outputs": [],
   "source": [
    "targets_goals = raw['G'].values.reshape(-1,1).astype(dtype = 'float32')\n",
    "targets_assists = raw['A'].values.reshape(-1,1).astype(dtype = 'float32')\n",
    "targets_primary_assists = raw['A1'].values.reshape(-1,1).astype(dtype = 'float32')\n",
    "targets_points = raw['PTS'].values.reshape(-1,1).astype(dtype = 'float32')\n",
    "targets_plusminus = raw['+/-'].values.reshape(-1,1).astype(dtype = 'float32')\n",
    "raw = raw.drop(columns = ['G', 'A', 'A1','PTS', '+/-'])"
   ]
  },
  {
   "cell_type": "code",
   "execution_count": 6,
   "metadata": {},
   "outputs": [
    {
     "name": "stderr",
     "output_type": "stream",
     "text": [
      "D:\\Programmes\\Anaconda3\\lib\\site-packages\\ipykernel_launcher.py:3: SettingWithCopyWarning: \n",
      "A value is trying to be set on a copy of a slice from a DataFrame\n",
      "\n",
      "See the caveats in the documentation: http://pandas.pydata.org/pandas-docs/stable/indexing.html#indexing-view-versus-copy\n",
      "  This is separate from the ipykernel package so we can avoid doing imports until\n"
     ]
    }
   ],
   "source": [
    "for i,position in enumerate(raw['Position']):\n",
    "    if position in ['C/RW', 'LW/C', 'LW/RW', 'RW/C', 'LW', 'RW']:\n",
    "        raw['Position'][i] = 'W'\n",
    "one_hot_position = pandas.get_dummies(raw['Position'])\n",
    "raw = raw.drop(columns = ['Position'])"
   ]
  },
  {
   "cell_type": "code",
   "execution_count": 7,
   "metadata": {},
   "outputs": [],
   "source": [
    "def shuffle_data(*sets):\n",
    "    rng_state = np.random.get_state()\n",
    "    for set in sets:\n",
    "        np.random.set_state(rng_state)\n",
    "        np.random.shuffle(set)"
   ]
  },
  {
   "cell_type": "code",
   "execution_count": 8,
   "metadata": {},
   "outputs": [],
   "source": [
    "data = np.concatenate((one_hot_position, raw.values), axis=1).astype(dtype = 'float32')\n",
    "shuffle_data(player_names, targets_goals, targets_assists, targets_primary_assists, targets_plusminus, data)"
   ]
  },
  {
   "cell_type": "code",
   "execution_count": 9,
   "metadata": {},
   "outputs": [],
   "source": [
    "train_size = int(data.shape[0] * 0.70)\n",
    "valid_size = int(data.shape[0] * 0.13)"
   ]
  },
  {
   "cell_type": "markdown",
   "metadata": {},
   "source": [
    "## MLP"
   ]
  },
  {
   "cell_type": "code",
   "execution_count": 10,
   "metadata": {},
   "outputs": [],
   "source": [
    "import torch\n",
    "import matplotlib.pyplot as plt\n",
    "import torch.nn as nn\n",
    "import torch.nn.functional as F\n",
    "import torch.utils.data\n",
    "import torch.optim\n",
    "import time"
   ]
  },
  {
   "cell_type": "code",
   "execution_count": 73,
   "metadata": {},
   "outputs": [],
   "source": [
    "class Network(nn.Module):\n",
    "    def __init__(self):\n",
    "        super(Network,self).__init__()\n",
    "#         self.fc1 = nn.Linear(35, 100)\n",
    "#         self.fc2 = nn.Linear(100,100)\n",
    "#         self.fc3 = nn.Linear(100, 1)\n",
    "        self.fc1 = nn.Linear(35, 1)\n",
    "    \n",
    "    def forward(self, x):\n",
    "#         x = F.relu(self.fc1(x))\n",
    "#         x = F.relu(self.fc2(x))\n",
    "#         x = self.fc3(x)\n",
    "        x = self.fc1(x)\n",
    "        return x"
   ]
  },
  {
   "cell_type": "code",
   "execution_count": 74,
   "metadata": {},
   "outputs": [],
   "source": [
    "class hockey_dataset(torch.utils.data.dataset.Dataset):\n",
    "    def __init__(self, data, labels, transforms=None):\n",
    "        self.data = data\n",
    "        self.labels = labels\n",
    "        self.transforms = transforms\n",
    "        \n",
    "    def __getitem__(self, index):\n",
    "        d = self.data[index]\n",
    "        if self.transforms is not None:\n",
    "            d = self.transforms(d)\n",
    "        return (d, self.labels[index])\n",
    "    \n",
    "    def __len__(self):\n",
    "        return self.labels.shape[0]"
   ]
  },
  {
   "cell_type": "code",
   "execution_count": 75,
   "metadata": {},
   "outputs": [],
   "source": [
    "def train(data, labels, nepochs):\n",
    "    \n",
    "#     trainset = hockey_dataset(\n",
    "#         data[:train_size], labels[:train_size])\n",
    "#     validset = hockey_dataset(\n",
    "#         data[train_size:train_size+valid_size], labels[train_size:train_size+valid_size])\n",
    "    \n",
    "    trainset = hockey_dataset(\n",
    "        data[:20], labels[:20])\n",
    "    validset = hockey_dataset(\n",
    "        data[:10], labels[:10])\n",
    "\n",
    "    trainloader = torch.utils.data.DataLoader(trainset, batch_size=10, shuffle = True)\n",
    "    validloader = torch.utils.data.DataLoader(validset, batch_size=100, shuffle = False)\n",
    "    \n",
    "    network = Network().to(device)\n",
    "    criterion = nn.MSELoss()\n",
    "    optimizer = torch.optim.SGD(network.parameters(), lr = 0.0001,\n",
    "                            weight_decay=0.001, momentum = 0)\n",
    "    \n",
    "    loss_train, loss_valid = [],[]\n",
    "    \n",
    "    for epoch in range(nepochs):\n",
    "        current_loss_train, current_loss_valid = 0,0\n",
    "        for data in trainloader:\n",
    "            inputs, label = data\n",
    "            optimizer.zero_grad()\n",
    "            output = network(inputs.to(device))\n",
    "            print(output)\n",
    "            loss = criterion(output, label.to(device))\n",
    "            loss.backward()\n",
    "            #print(loss.item())\n",
    "            optimizer.step()\n",
    "            current_loss_train += loss.item()\n",
    "        loss_train.append(current_loss_train)\n",
    "        \n",
    "        with torch.no_grad():\n",
    "            for data in validloader:\n",
    "                inputs, label = data\n",
    "                output = network(inputs.to(device))\n",
    "                loss = criterion(output, label.to(device))\n",
    "                current_loss_valid += loss.item()\n",
    "        loss_valid.append(current_loss_valid)\n",
    "        print('Epoch: {}'.format(epoch))\n",
    "        print('Train loss: {0:.4f}'.format(loss_train[-1]))\n",
    "        print('Valid loss: {0:.4f}'.format(loss_valid[-1]))\n",
    "    print('Finished Training')\n",
    "    \n",
    "    return loss_train, loss_valid"
   ]
  },
  {
   "cell_type": "code",
   "execution_count": 76,
   "metadata": {},
   "outputs": [
    {
     "data": {
      "text/plain": [
       "'GeForce GTX 1050'"
      ]
     },
     "execution_count": 76,
     "metadata": {},
     "output_type": "execute_result"
    }
   ],
   "source": [
    "device = torch.device(\"cuda:0\" if torch.cuda.is_available() else \"cpu\")\n",
    "torch.cuda.get_device_name(0)"
   ]
  },
  {
   "cell_type": "code",
   "execution_count": 77,
   "metadata": {},
   "outputs": [
    {
     "name": "stdout",
     "output_type": "stream",
     "text": [
      "tensor([[ 74.5934],\n",
      "        [  6.3406],\n",
      "        [  5.4474],\n",
      "        [-17.3743],\n",
      "        [ 80.3538],\n",
      "        [ 27.7175],\n",
      "        [  8.4693],\n",
      "        [132.9822],\n",
      "        [104.6754],\n",
      "        [  7.4201]], device='cuda:0', grad_fn=<ThAddmmBackward>)\n",
      "tensor([[-14071.8311],\n",
      "        [-13052.1602],\n",
      "        [-40828.9844],\n",
      "        [ -8248.1562],\n",
      "        [ -2263.1494],\n",
      "        [-15506.4951],\n",
      "        [  -694.4922],\n",
      "        [ -6594.3945],\n",
      "        [-20297.3848],\n",
      "        [-19906.9805]], device='cuda:0', grad_fn=<ThAddmmBackward>)\n",
      "Epoch: 0\n",
      "Train loss: 320908027.3708\n",
      "Valid loss: 29334169452544.0000\n",
      "tensor([[ 9758363.0000],\n",
      "        [ 7680213.0000],\n",
      "        [  252689.4375],\n",
      "        [ 3180327.5000],\n",
      "        [  253323.8438],\n",
      "        [ 3469156.2500],\n",
      "        [ 4941749.0000],\n",
      "        [  797217.8750],\n",
      "        [ 9840897.0000],\n",
      "        [14640161.0000]], device='cuda:0', grad_fn=<ThAddmmBackward>)\n",
      "tensor([[-1343741056.],\n",
      "        [-6178153984.],\n",
      "        [-1075470208.],\n",
      "        [ -378991712.],\n",
      "        [-6454049792.],\n",
      "        [-3218967552.],\n",
      "        [ -116074608.],\n",
      "        [ -130199520.],\n",
      "        [-6821745664.],\n",
      "        [-2511673600.]], device='cuda:0', grad_fn=<ThAddmmBackward>)\n",
      "Epoch: 1\n",
      "Train loss: 14616766437075714048.0000\n",
      "Valid loss: 2384851855233272720130048.0000\n",
      "tensor([[2913341014016.],\n",
      "        [2798763376640.],\n",
      "        [1409295056896.],\n",
      "        [ 463393914880.],\n",
      "        [  59230793728.],\n",
      "        [2753240760320.],\n",
      "        [1385064824832.],\n",
      "        [ 165089165312.],\n",
      "        [ 891344060416.],\n",
      "        [ 984940347392.]], device='cuda:0', grad_fn=<ThAddmmBackward>)\n",
      "tensor([[-1994394907443200.],\n",
      "        [ -512748161073152.],\n",
      "        [ -103259394015232.],\n",
      "        [  -25713535090688.],\n",
      "        [-1042907381366784.],\n",
      "        [-1326980746182656.],\n",
      "        [ -275213266714624.],\n",
      "        [  -29238923100160.],\n",
      "        [  -28842695589888.],\n",
      "        [-1260045157269504.]], device='cuda:0', grad_fn=<ThAddmmBackward>)\n",
      "Epoch: 2\n",
      "Train loss: 876555198808717719785275654144.0000\n",
      "Valid loss: 206231540849930184870695651076210688.0000\n",
      "tensor([[169239664425697280.],\n",
      "        [823189512308916224.],\n",
      "        [317014250537091072.],\n",
      "        [288680145126948864.],\n",
      "        [813892385581826048.],\n",
      "        [ 47194878764908544.],\n",
      "        [ 16176767760859136.],\n",
      "        [ 14437768788705280.],\n",
      "        [414583881593782272.],\n",
      "        [650070994198724608.]], device='cuda:0', grad_fn=<ThAddmmBackward>)\n",
      "tensor([[-104183186350938259456.],\n",
      "        [  -7244441322369581056.],\n",
      "        [-487681363217813078016.],\n",
      "        [-321331657491024445440.],\n",
      "        [-161880410862204747776.],\n",
      "        [  -7400823211920719872.],\n",
      "        [ -25458721150176591872.],\n",
      "        [ -54310697911390830592.],\n",
      "        [-340579831192173412352.],\n",
      "        [-309530432064337215488.]],\n",
      "       device='cuda:0', grad_fn=<ThAddmmBackward>)\n",
      "Epoch: 3\n",
      "Train loss: inf\n",
      "Valid loss: inf\n",
      "tensor([[224721136624089784385536.],\n",
      "        [114175708113059551641600.],\n",
      "        [ 46705710339152198762496.],\n",
      "        [  4550643103178101358592.],\n",
      "        [ 37375434106142715805696.],\n",
      "        [  4446748718949361254400.],\n",
      "        [ 87288623862506877616128.],\n",
      "        [ 79439453194350170734592.],\n",
      "        [ 13086756829696884736000.],\n",
      "        [340968284392957650403328.]],\n",
      "       device='cuda:0', grad_fn=<ThAddmmBackward>)\n",
      "tensor([[-113052365241998957552336896.],\n",
      "        [  -1960202186164143883550720.],\n",
      "        [-102384530133824392159821824.],\n",
      "        [-108643971566635885761921024.],\n",
      "        [-107684445726897809725063168.],\n",
      "        [  -8247857481690812017278976.],\n",
      "        [ -85020157992011785339666432.],\n",
      "        [ -53382921994443629164232704.],\n",
      "        [  -2201900218044359056031744.],\n",
      "        [ -34694705429123201090191360.]],\n",
      "       device='cuda:0', grad_fn=<ThAddmmBackward>)\n",
      "Epoch: 4\n",
      "Train loss: inf\n",
      "Valid loss: inf\n",
      "Finished Training\n",
      "Temps d'entrainement : 0.14557743072509766\n"
     ]
    },
    {
     "data": {
      "image/png": "[encoded data removed]",
      "text/plain": [
       "<Figure size 432x288 with 1 Axes>"
      ]
     },
     "metadata": {
      "needs_background": "light"
     },
     "output_type": "display_data"
    }
   ],
   "source": [
    "nepochs = 5\n",
    "t1 = time.time()\n",
    "loss_train, loss_valid = train(data, targets_points, nepochs)\n",
    "print(\"Temps d'entrainement : {}\".format(time.time()-t1))\n",
    "torch.cuda.empty_cache()\n",
    "\n",
    "fig,ax = plt.subplots()\n",
    "ax.plot(range(nepochs), loss_train, 'sk-', label='Train')\n",
    "ax.plot(range(nepochs), loss_valid, 'sr-', label='Valid')\n",
    "ax.set_xlabel('Epoch')\n",
    "ax.set_ylabel('Average Cost')\n",
    "ax.legend()\n",
    "plt.show()"
   ]
  },
  {
   "cell_type": "code",
   "execution_count": null,
   "metadata": {},
   "outputs": [],
   "source": []
  }
 ],
 "metadata": {
  "kernelspec": {
   "display_name": "Python 3",
   "language": "python",
   "name": "python3"
  },
  "language_info": {
   "codemirror_mode": {
    "name": "ipython",
    "version": 3
   },
   "file_extension": ".py",
   "mimetype": "text/x-python",
   "name": "python",
   "nbconvert_exporter": "python",
   "pygments_lexer": "ipython3",
   "version": "3.7.0"
  }
 },
 "nbformat": 4,
 "nbformat_minor": 2
}
